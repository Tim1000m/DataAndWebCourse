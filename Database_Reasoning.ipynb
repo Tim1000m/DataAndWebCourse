{
 "cells": [
  {
   "cell_type": "markdown",
   "metadata": {},
   "source": [
    "FORUM PROJECT BY TIM RODANIM NZUNGU MUZINGA\n",
    "\n",
    "In this notebook I will explain the setup regarding my database and the queries that I will be using for my project.\n",
    "\n",
    "This notebook will be divided in to:\n",
    "\n",
    "++++++++++++++++++++++++++++++++++++++++++\n",
    "\n",
    "1. Creating Tables  \n",
    "2. Display of data in tables\n",
    "3. Fetching Data\n",
    "\n",
    "    3.1 User Authentication query's\n",
    "\n",
    "    3.2 Vieuw Forums and Subforms query's\n",
    "\n",
    "    3.3 Thread query's\n",
    "\n",
    "    3.4 Post query's\n",
    "    \n",
    "    3.5 User profile query's\n",
    "\n",
    "    3.6 Administrator\n",
    "|\n",
    "\n",
    "+++++++++++++++++++++++++++++++++++++++++\n",
    "\n"
   ]
  },
  {
   "cell_type": "markdown",
   "metadata": {},
   "source": [
    "1. CREATING TABLES\n",
    "\n",
    "\n",
    "\n",
    "\n",
    "CREATE TABLE IF NOT EXISTS user (  \n",
    "\n",
    " user_id INTEGER PRIMARY KEY AUTOINCREMENT, \n",
    "\n",
    " username TEXT NOT NULL, \n",
    "\n",
    " age INTEGER, \n",
    "\n",
    " email TEXT, \n",
    "\n",
    " password TEXT NOT NULL, \n",
    "\n",
    " account_type TEXT CHECK (account_type IN ('user', 'administrator')), \n",
    "\n",
    " profile TEXT, \n",
    " \n",
    "profile_image BLOB \n",
    ");\n",
    "\n",
    "++Create Forums table with a foreign key to user (for authorship)++\n",
    "\n",
    "CREATE TABLE IF NOT EXISTS Forums ( \n",
    "\n",
    " forum_id INTEGER PRIMARY KEY AUTOINCREMENT, \n",
    "\n",
    " title TEXT NOT NULL, \n",
    "\n",
    " text TEXT NOT NULL, \n",
    "\n",
    " user_id INTEGER, \n",
    "\n",
    " FOREIGN KEY (user_id) REFERENCES user(user_id)  \n",
    ");\n",
    "\n",
    "++Create Subforms table with a foreign key to Forums++\n",
    "\n",
    "CREATE TABLE IF NOT EXISTS Subforms (  \n",
    "\n",
    "subform_id INTEGER PRIMARY KEY AUTOINCREMENT, \n",
    "\n",
    " title TEXT NOT NULL, \n",
    "\n",
    " forum_id INTEGER, \n",
    "\n",
    " FOREIGN KEY (forum_id) REFERENCES Forums(forum_id)  \n",
    "\n",
    ");\n",
    "\n",
    "++Create Threads table with a foreign key to Subforms++\n",
    "\n",
    "CREATE TABLE IF NOT EXISTS Threads (  \n",
    "\n",
    "thread_id INTEGER PRIMARY KEY AUTOINCREMENT, \n",
    "\n",
    " title TEXT NOT NULL, \n",
    "\n",
    " subform_id INTEGER,  \n",
    "\n",
    "user_id INTEGER, \n",
    "\n",
    "created_at TIMESTAMP DEFAULT CURRENT_TIMESTAMP \n",
    "\n",
    " FOREIGN KEY (subform_id) REFERENCES Subforms(subform_id), \n",
    "\n",
    " FOREIGN KEY (user_id) REFERENCES user(user_id) \n",
    "\n",
    "); \n",
    "\n",
    "++Create Posts table with foreign keys to Threads and Users++\n",
    "\n",
    "CREATE TABLE IF NOT EXISTS Posts ( \n",
    "\n",
    " post_id INTEGER PRIMARY KEY AUTOINCREMENT, \n",
    "\n",
    " title TEXT NOT NULL, \n",
    "\n",
    " post_text TEXT NOT NULL, \n",
    "\n",
    " thread_id INTEGER, \n",
    "\n",
    " user_id INTEGER, \n",
    "\n",
    "created_at TIMESTAMP DEFAULT CURRENT_TIMESTAMP, \n",
    "\n",
    " FOREIGN KEY (thread_id) REFERENCES Threads(thread_id), \n",
    " \n",
    " FOREIGN KEY (user_id) REFERENCES user(user_id) );"
   ]
  },
  {
   "cell_type": "code",
   "execution_count": 11,
   "metadata": {},
   "outputs": [],
   "source": [
    "import sqlite3\n",
    "conn = sqlite3.connect(\"Database_Reasoning.db\")\n"
   ]
  },
  {
   "cell_type": "markdown",
   "metadata": {},
   "source": [
    "DISPLAY OF DATA IN TABLES \n",
    "\n",
    "The above 'sql' commands have been used directly in to the sqlite workbench,\n",
    "\n",
    "which means that in this notebook I imported a databases that was already setup.\n",
    "\n",
    "The *db has been filled up with dummy data so that we're able to display the working and efficientcy of our query's.\n",
    "\n",
    "In order to display all the data of a table we use the  'SELECT * FROM table' command \n",
    "\n",
    "(I have displayed them all in the underneath code for visualitsation of the dummy data)\n",
    "\n",
    "\n",
    "*db= database"
   ]
  },
  {
   "cell_type": "code",
   "execution_count": 13,
   "metadata": {},
   "outputs": [
    {
     "name": "stdout",
     "output_type": "stream",
     "text": [
      "(1, 'john_doe', 28, 'john@example.com', 'password123', 'user', 'Software Engineer, loves gaming', None)\n",
      "(2, 'jane_smith', 34, 'jane@example.com', 'securePass!', 'administrator', 'Community Manager, passionate about art', None)\n",
      "(3, 'sam_lee', 22, 'sam.lee@example.com', 'myPassword', 'user', 'Student and tech enthusiast', None)\n",
      "(4, 'linda_chan', 29, 'linda.chan@example.com', 'lindasPass', 'user', 'Graphic Designer, loves traveling', None)\n"
     ]
    }
   ],
   "source": [
    "cur = conn.cursor()\n",
    "\n",
    "cur.execute('SELECT * FROM user')\n",
    "#cur.execute('SELECT * FROM forums')\n",
    "#cur.execute('SELECT * FROM Subforms')\n",
    "#cur.execute('SELECT * FROM Threads')\n",
    "#cur.execute('SELECT * FROM Posts')\n",
    "\n",
    "\n",
    "rows = cur.fetchall()\n",
    "\n",
    "for row in rows:\n",
    "    print(row)\n",
    "\n"
   ]
  },
  {
   "cell_type": "markdown",
   "metadata": {},
   "source": [
    "3.1 User Authentication query's\n",
    "\n",
    "a. Whem a user (after registering), want to login in we will call this query to lookup the users credentials and allowing them to the home page if username and password are met.\n",
    "\n",
    "=> SELECT * FROM user WHERE username = ? AND password = ?, (\"username\", \"password\")\n",
    "\n",
    "b. For retrieving a user_id we will use:\n",
    "\n",
    "=> SELECT * FROM Users WHERE user_id = ?\n",
    "\n",
    "*password will in my app be internally hashed"
   ]
  },
  {
   "cell_type": "code",
   "execution_count": 21,
   "metadata": {},
   "outputs": [
    {
     "name": "stdout",
     "output_type": "stream",
     "text": [
      "1\n",
      "john_doe\n",
      "28\n",
      "john@example.com\n",
      "password123\n",
      "user\n",
      "Software Engineer, loves gaming\n",
      "None\n"
     ]
    }
   ],
   "source": [
    "cur.execute(\"SELECT * FROM user WHERE username = ? AND password = ?\", (\"john_doe\", \"password123\"))\n",
    "\n",
    "# Fetch all rows that match the query\n",
    "rows = cur.fetchone()\n",
    "\n",
    "# Check if any rows were returned\n",
    "if not rows:\n",
    "    print(\"User doesn't exist\")\n",
    "else:\n",
    "    # Print each row if there are matching results\n",
    "    for row in rows:\n",
    "        print(row)"
   ]
  },
  {
   "cell_type": "markdown",
   "metadata": {},
   "source": []
  },
  {
   "cell_type": "markdown",
   "metadata": {},
   "source": [
    "3.2 Vieuw Forums and Subforms query's\n",
    "\n",
    "a. If we would want to see what all the forums are in our table by name we'll use:\n",
    "\n",
    "=> SELECT * FROM Forums ORDER BY title\n",
    "\n",
    "b. If we want to see which subforums are from a certain forum than we'll use: \n",
    "\n",
    "=> SELECT * FROM Subforms WHERE forum_id = ? ORDER BY title"
   ]
  },
  {
   "cell_type": "code",
   "execution_count": 27,
   "metadata": {},
   "outputs": [
    {
     "name": "stdout",
     "output_type": "stream",
     "text": [
      "(2, 'Announcements', 1)\n",
      "(1, 'Introductions', 1)\n"
     ]
    }
   ],
   "source": [
    "cur.execute(\"SELECT * FROM Subforms WHERE forum_id = 1 ORDER BY title\")\n",
    "\n",
    "rows = cur.fetchall()\n",
    "\n",
    "for row in rows:\n",
    "    print(row)"
   ]
  },
  {
   "cell_type": "markdown",
   "metadata": {},
   "source": [
    " 3.3 Thread query's\n",
    "\n",
    "a. Here we are getting all the threads for a specific forum ordered by most recent posts (datestamp is given uppon creation of the post)(Also a way for keeping everyting organized):\n",
    "\n",
    "=> SELECT Threads.*, MAX(Posts.created_at) AS last_post_date\n",
    "\n",
    "FROM Threads\n",
    "\n",
    "LEFT JOIN Posts ON Threads.thread_id = Posts.thread_id\n",
    "\n",
    "WHERE Threads.subform_id = ?\n",
    "\n",
    "GROUP BY Threads.thread_id\n",
    "\n",
    "ORDER BY last_post_date DESC\n",
    "\n",
    "#So we are first sellecting all the columns in the table Threads and the last post made based on it's date \n",
    "\n",
    "#Now we retrieve all threads and eventually join them with the Posts table to find the latest post for each thread\n",
    "\n",
    "#means that all rows from the Threads table will be included in the result,\n",
    "\n",
    "#even if there are no corresponding rows in the Posts table. If a thread has no posts, the last_post_date will be NULL for that thread\n",
    "\n",
    "\n",
    "b. When we want to create a new Thread in a certain Subform based on its ID we'll use:\n",
    "\n",
    "=> INSERT INTO Threads (title, subform_id, user_id) VALUES (?, ?, ?)\n",
    "\n",
    "\n",
    "c. When someone who has the function of administrator want's to thread by it's ID we'll use:\n",
    "\n",
    "=> DELETE FROM Threads WHERE thread_id = ?\n"
   ]
  },
  {
   "cell_type": "code",
   "execution_count": null,
   "metadata": {},
   "outputs": [
    {
     "name": "stdout",
     "output_type": "stream",
     "text": [
      "(1, 'Welcome to the Forum!', 1, 2, '2024-11-01 10:15:00', '2024-11-01 10:20:00')\n"
     ]
    }
   ],
   "source": [
    "cur.execute('''\n",
    "    SELECT Threads.*, MAX(Posts.created_at) AS last_post_date\n",
    "\n",
    "    FROM Threads\n",
    "\n",
    "    LEFT JOIN Posts ON Threads.thread_id = Posts.thread_id\n",
    "\n",
    "    WHERE Threads.subform_id = 1 \n",
    "\n",
    "    GROUP BY Threads.thread_id\n",
    "\n",
    "    ORDER BY last_post_date DESC \n",
    "''')\n",
    "\n",
    "\n",
    "rows = cur.fetchall()\n",
    "\n",
    "for row in rows:\n",
    "    print(row)"
   ]
  },
  {
   "cell_type": "markdown",
   "metadata": {},
   "source": [
    "3.4 Post query's\n",
    "\n",
    "a. Retrieve all posts in a thread, ordered chronologically:\n",
    "\n",
    "=> SELECT * FROM Posts WHERE thread_id = ? ORDER BY created_at\n",
    "\n",
    "b. Insert a new post in a thread:\n",
    "\n",
    "=>INSERT INTO Posts (title, post_text, thread_id, user_id) VALUES (?, ?, ?, ?)\n",
    "\n",
    "\n",
    "c. (Administrator): Remove a specific post by its ID:\n",
    "\n",
    "=>DELETE FROM Posts WHERE post_id = ?\n",
    "\n"
   ]
  },
  {
   "cell_type": "code",
   "execution_count": 31,
   "metadata": {},
   "outputs": [
    {
     "name": "stdout",
     "output_type": "stream",
     "text": [
      "(2, 'Follow the Rules', 'Please make sure to follow the forum guidelines.', 2, 2, '2024-11-01 11:05:00')\n"
     ]
    }
   ],
   "source": [
    "cur.execute('''\n",
    "   SELECT * FROM Posts WHERE thread_id = 2 ORDER BY created_at \n",
    "''')\n",
    "\n",
    "\n",
    "rows = cur.fetchall()\n",
    "\n",
    "for row in rows:\n",
    "    print(row)"
   ]
  },
  {
   "cell_type": "markdown",
   "metadata": {},
   "source": [
    "    3.5 User profile query's\n",
    "\n",
    "a. Retrieve a user's profile, including profile details and recent posts.\n",
    "\n",
    "=>SELECT * FROM user WHERE user_id = ?\n",
    "\n",
    "b. List recent posts made by a user.\n",
    "\n",
    "=>SELECT * FROM Posts WHERE user_id = ? ORDER BY created_at DESC LIMIT 5\n",
    "\n",
    "*DESC LIMIT 5 = we are sorting in descending order and we only want the first 5\n",
    "\n",
    "c. Update the profile text or profile image for a user.\n",
    "\n",
    "=>UPDATE user SET profile = ?, profile_image = ? WHERE user_id = ?\n"
   ]
  },
  {
   "cell_type": "code",
   "execution_count": null,
   "metadata": {},
   "outputs": [
    {
     "name": "stdout",
     "output_type": "stream",
     "text": [
      "(3, 'Python is King', 'I think Python is the best language for beginners.', 3, 1, '2024-11-02 09:35:00')\n",
      "(1, 'Hello Everyone!', 'Excited to join the community!', 1, 1, '2024-11-01 10:20:00')\n"
     ]
    }
   ],
   "source": [
    "cur.execute('''\n",
    "   SELECT * FROM Posts WHERE user_id = 1 ORDER BY created_at DESC LIMIT 5\n",
    "''')\n",
    "\n",
    "\n",
    "rows = cur.fetchall()\n",
    "\n",
    "for row in rows:\n",
    "    print(row)\n",
    "\n",
    "conn.close()"
   ]
  },
  {
   "cell_type": "markdown",
   "metadata": {},
   "source": [
    "    3.6 Adminstrator\n",
    "\n",
    "\n",
    "These functions are all for the admininstrator and can only will only be used if the account_type == 'administrator'\n",
    "\n",
    "a. Create a new subforum within a forum.\n",
    "\n",
    "=>INSERT INTO Subforms (title, forum_id) VALUES (?, ?)\n",
    "\n",
    "\n",
    "b. Update a Subform title.\n",
    "\n",
    "=>UPDATE Subforms SET title = ? WHERE subform_id = ?\n",
    "\n",
    "\n",
    "c. Delete a Subform by its ID.\n",
    "\n",
    "=>DELETE FROM Subforms WHERE subform_id = ?\n",
    "\n",
    "\n",
    "d. Fetching all threads and posts in a subforum, used before deleting a subforum\n",
    "\n",
    "=>SELECT thread_id FROM Threads WHERE subform_id = ?"
   ]
  },
  {
   "cell_type": "markdown",
   "metadata": {},
   "source": []
  }
 ],
 "metadata": {
  "kernelspec": {
   "display_name": "base",
   "language": "python",
   "name": "python3"
  },
  "language_info": {
   "codemirror_mode": {
    "name": "ipython",
    "version": 3
   },
   "file_extension": ".py",
   "mimetype": "text/x-python",
   "name": "python",
   "nbconvert_exporter": "python",
   "pygments_lexer": "ipython3",
   "version": "3.10.9"
  }
 },
 "nbformat": 4,
 "nbformat_minor": 2
}
